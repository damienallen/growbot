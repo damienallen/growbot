{
 "cells": [
  {
   "cell_type": "code",
   "execution_count": 35,
   "metadata": {},
   "outputs": [],
   "source": [
    "# Simulate daily data\n",
    "\n",
    "import pandas as pd\n",
    "from datetime import datetime, timedelta\n",
    "from pathlib import Path\n",
    "from random import randint\n",
    "\n",
    "import sys\n",
    "sys.path.append(str(\"../\"))\n",
    "from server.hub.mqtt import SensorReport\n",
    "\n",
    "\n",
    "now = datetime.now()\n",
    "now = now - timedelta(microseconds=now.microsecond)\n",
    "end = now + timedelta(hours=24)\n",
    "\n",
    "time = now\n",
    "ts = []\n",
    "\n",
    "while time < end:\n",
    "    time = time + timedelta(seconds=10)\n",
    "    report = SensorReport(\n",
    "        timestamp=pd.Timestamp(time),\n",
    "        temperature=randint(10, 25),\n",
    "        humidity=randint(30, 80),\n",
    "        dew_point=randint(-10, 30),\n",
    "        air_pressure=randint(1000, 1200),\n",
    "        gas_resistance=randint(500, 2000),\n",
    "    )\n",
    "\n",
    "    ts.append(report)\n",
    "\n",
    "df = pd.DataFrame(ts)\n",
    "df.set_index(\"timestamp\", inplace=True)\n"
   ]
  },
  {
   "cell_type": "code",
   "execution_count": 36,
   "metadata": {},
   "outputs": [
    {
     "name": "stdout",
     "output_type": "stream",
     "text": [
      "scratch/data/10sec.xz\n"
     ]
    }
   ],
   "source": [
    "\n",
    "import lzma\n",
    "import pickle\n",
    "\n",
    "data_dir = Path(\"scratch/data\")\n",
    "data_dir.mkdir(parents=True, exist_ok=True)\n",
    "sample_archive = data_dir / \"10sec.xz\"\n",
    "\n",
    "with lzma.open(str(sample_archive), \"w\") as f:\n",
    "    pickle.dump(df, f)\n",
    "\n",
    "print(sample_archive)"
   ]
  },
  {
   "cell_type": "code",
   "execution_count": 46,
   "metadata": {},
   "outputs": [
    {
     "name": "stdout",
     "output_type": "stream",
     "text": [
      "10sec\n",
      "7.72 ms\n",
      "\n",
      "30sec\n",
      "2.81 ms\n",
      "\n",
      "1sec\n",
      "59.99 ms\n",
      "\n",
      "minutely\n",
      "2.16 ms\n",
      "\n",
      "15sec\n",
      "9.97 ms\n",
      "\n",
      "hourly\n",
      "0.48 ms\n",
      "\n"
     ]
    }
   ],
   "source": [
    "from functools import wraps\n",
    "from time import time\n",
    "\n",
    "def timing(f):\n",
    "    @wraps(f)\n",
    "    def wrap(*args, **kw):\n",
    "        start = time()\n",
    "        result = f(*args, **kw)\n",
    "        end = time()\n",
    "        ms = (end-start) * 1000\n",
    "        print(f\"{ms:2.2f} ms\\n\")\n",
    "        return result\n",
    "\n",
    "    return wrap\n",
    "\n",
    "@timing\n",
    "def open_ts(file_path):\n",
    "    pd.read_pickle(file_path)\n",
    "\n",
    "for file in data_dir.glob(\"*.xz\"):\n",
    "    print(file.stem)\n",
    "    open_ts(file)"
   ]
  }
 ],
 "metadata": {
  "kernelspec": {
   "display_name": "growbot-server-xtqFpXHC-py3.11",
   "language": "python",
   "name": "python3"
  },
  "language_info": {
   "codemirror_mode": {
    "name": "ipython",
    "version": 3
   },
   "file_extension": ".py",
   "mimetype": "text/x-python",
   "name": "python",
   "nbconvert_exporter": "python",
   "pygments_lexer": "ipython3",
   "version": "3.11.1"
  },
  "orig_nbformat": 4,
  "vscode": {
   "interpreter": {
    "hash": "aeb34e40fe1b805bb7f32599f7fc3e0751b4fa85066819e517b82a1257c90867"
   }
  }
 },
 "nbformat": 4,
 "nbformat_minor": 2
}
